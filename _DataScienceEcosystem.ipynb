{
 "cells": [
  {
   "cell_type": "markdown",
   "id": "4915a594-78ba-4715-aff1-8c09fe7a23ed",
   "metadata": {},
   "source": [
    "# Data Science Tools and Ecosystem"
   ]
  },
  {
   "cell_type": "markdown",
   "id": "787aae47-4f0e-44ea-be79-b87a049eac7c",
   "metadata": {},
   "source": [
    "In this notebook, Data Science Tools and Ecosystem are summarized.\n"
   ]
  },
  {
   "cell_type": "markdown",
   "id": "cb6192c5-f174-45cb-8831-3e7851bd92a6",
   "metadata": {},
   "source": [
    "Some of the popular languages that Data Scientists use are:\n",
    "\n",
    "1. Python\n",
    "2. R\n",
    "3. SQL\n",
    "4. Java\n",
    "5. Julia"
   ]
  },
  {
   "cell_type": "markdown",
   "id": "7d1eb070-790d-4d39-a259-3859448c4752",
   "metadata": {},
   "source": [
    "Some of the commonly used libraries used by Data Scientists include:\n"
   ]
  },
  {
   "cell_type": "markdown",
   "id": "3ec5c5db-df8f-4fe2-be73-8c414120d70c",
   "metadata": {},
   "source": [
    "1. NumPy\n",
    "2. Pandas\n",
    "3. Matplotlib\n",
    "4. scikit-leann \n",
    "5. TensorFlow\n",
    "6. Keras\n",
    "7. PyTorch"
   ]
  },
  {
   "cell_type": "markdown",
   "id": "657e53c5-9b67-4cac-b378-517c7a6d7eeb",
   "metadata": {},
   "source": [
    "In this notebook, Data Science Tools and Ecosystem are summarized.\n"
   ]
  },
  {
   "cell_type": "markdown",
   "id": "b4ac6c28-42dd-4a40-b5a1-90128c03e26d",
   "metadata": {},
   "source": [
    "| Data Science Tools |\n",
    "|--------------------|\n",
    "| Jupyter Notebook   |\n",
    "| RStudio            |\n",
    "| Apache Zeppelin    |\n",
    "| Spyder             |\n",
    "| Anaconda           |\n"
   ]
  },
  {
   "cell_type": "markdown",
   "id": "c5f785a1-17fc-468d-b0b3-b3d89b4be7c6",
   "metadata": {},
   "source": [
    "### Below are a few examples of evaluating arithmetic expressions in Python.\n"
   ]
  },
  {
   "cell_type": "code",
   "execution_count": 8,
   "id": "9506cf5f-f74c-4b62-b3dd-ea7e28b2f31d",
   "metadata": {},
   "outputs": [
    {
     "data": {
      "text/plain": [
       "14"
      ]
     },
     "execution_count": 8,
     "metadata": {},
     "output_type": "execute_result"
    }
   ],
   "source": [
    "# This is a simple arithmetic expression that performs multiplication and then addition.\n",
    "(2 * 4) + 6\n",
    "\n"
   ]
  },
  {
   "cell_type": "code",
   "execution_count": 4,
   "id": "599cf775-73cd-4045-81fc-d1bd6d27dc18",
   "metadata": {},
   "outputs": [
    {
     "data": {
      "text/plain": [
       "3.3333333333333335"
      ]
     },
     "execution_count": 4,
     "metadata": {},
     "output_type": "execute_result"
    }
   ],
   "source": [
    "# This will convert 200 minutes to hours by dividing by 60 \n",
    "200 / 60\n",
    "\n",
    "\n"
   ]
  },
  {
   "cell_type": "markdown",
   "id": "a7affe55-8de4-4e5e-aff9-76d6809d5b47",
   "metadata": {},
   "source": [
    "**Objectives:**\n",
    "\n",
    "- List popular data science languages\n",
    "- Identify data science libraries\n",
    "- Evaluate arithmetic expressions in Python\n",
    "- Convert minutes to hours\n",
    "- Create a table of data science tools"
   ]
  },
  {
   "cell_type": "markdown",
   "id": "d27e6c67-8026-4f86-94a8-22491c35f00f",
   "metadata": {},
   "source": [
    "## Author\n",
    "\n",
    "Yusuf Baha Bozbağ\n"
   ]
  },
  {
   "cell_type": "code",
   "execution_count": null,
   "id": "eac2380b-c3d7-47e8-b92a-1d00b8396d51",
   "metadata": {},
   "outputs": [],
   "source": []
  }
 ],
 "metadata": {
  "kernelspec": {
   "display_name": "Python 3 (ipykernel)",
   "language": "python",
   "name": "python3"
  },
  "language_info": {
   "codemirror_mode": {
    "name": "ipython",
    "version": 3
   },
   "file_extension": ".py",
   "mimetype": "text/x-python",
   "name": "python",
   "nbconvert_exporter": "python",
   "pygments_lexer": "ipython3",
   "version": "3.10.9"
  }
 },
 "nbformat": 4,
 "nbformat_minor": 5
}
